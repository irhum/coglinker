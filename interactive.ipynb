{
  "cells": [
    {
      "cell_type": "code",
      "execution_count": null,
      "metadata": {
        "id": "mWlWDAH3Dv6M"
      },
      "outputs": [],
      "source": [
        "# Insert OpenAI API Key\n",
        "API_KEY = 'INSERT KEY HERE' #@param {type:\"string\"}"
      ]
    },
    {
      "cell_type": "code",
      "execution_count": null,
      "metadata": {
        "id": "BABgCKUTmlNp"
      },
      "outputs": [],
      "source": [
        "# Clone the repo + install dependencies\n",
        "!git clone --branch main https://github.com/irhum/coglinker.git \n",
        "!mv coglinker coglinker_repo\n",
        "!cp -r coglinker_repo/* .\n",
        "!rm -rf coglinker_repo\n",
        "\n",
        "!chmod +x setup.sh\n",
        "!./setup.sh\n",
        "!npm install localtunnel"
      ]
    },
    {
      "cell_type": "code",
      "execution_count": null,
      "metadata": {
        "id": "3wCCwpHZrtg0"
      },
      "outputs": [],
      "source": [
        "# Launch the Streamlit app\n",
        "!export OPENAI_API_KEY={API_KEY}; streamlit run app.py &> logs.txt &\n",
        "!npx localtunnel --port 8501"
      ]
    },
    {
      "cell_type": "code",
      "execution_count": null,
      "metadata": {
        "id": "PtM0dt3sEmZg"
      },
      "outputs": [],
      "source": []
    }
  ],
  "metadata": {
    "colab": {
      "provenance": []
    },
    "kernelspec": {
      "display_name": "Python 3",
      "name": "python3"
    },
    "language_info": {
      "name": "python"
    }
  },
  "nbformat": 4,
  "nbformat_minor": 0
}
